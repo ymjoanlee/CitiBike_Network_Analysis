{
 "metadata": {
  "name": "",
  "signature": "sha256:fa5bde250041d8814db5a701b44776e9ab1869dd49c78f2e88cdbfb9592753f0"
 },
 "nbformat": 3,
 "nbformat_minor": 0,
 "worksheets": [
  {
   "cells": [
    {
     "cell_type": "code",
     "collapsed": false,
     "input": [
      "import networkx as nx\n",
      "import pandas as pd \n",
      "import igraph\n",
      "from pandas import Timestamp\n",
      "import numpy as np"
     ],
     "language": "python",
     "metadata": {},
     "outputs": []
    },
    {
     "cell_type": "markdown",
     "metadata": {},
     "source": [
      "#Data "
     ]
    },
    {
     "cell_type": "code",
     "collapsed": false,
     "input": [
      "df = pd.read_csv('Data/working_data.csv',parse_dates=[\"starttime\", \"stoptime\"])\n",
      "del df['Unnamed: 0']"
     ],
     "language": "python",
     "metadata": {},
     "outputs": []
    },
    {
     "cell_type": "markdown",
     "metadata": {},
     "source": [
      "# Data Set-Up for Community Detection and Alluvial Diagram"
     ]
    },
    {
     "cell_type": "markdown",
     "metadata": {},
     "source": [
      "### Weekdays"
     ]
    },
    {
     "cell_type": "code",
     "collapsed": false,
     "input": [
      "# Subset of WEEKDAYS; subscribers, non-round trips \n",
      "df_wkday = df[(df.usertype == 'Subscriber') & (df.dist != 0) & (df.weektype == 'Weekday') & \\\n",
      "               (df.starttime >= Timestamp('2013-08-01')) & (df.starttime < Timestamp('2013-11-01'))]\\\n",
      "[['starttime', 'stoptime', 'start station id', 'end station id', 'dayofweek', 'dayofweek_name']]\n",
      "\n",
      "# Add auxillary information\n",
      "wkday_aux_info = pd.read_csv('Data/station_aux_info.csv')\n",
      "for i in ['start station id', 'end station id']:\n",
      "    prefix = i.split(' ',1)[0]\n",
      "    df_wkday_merge = pd.merge(df_wkday, wkday_aux_info, left_on=i, right_on='station_id')\n",
      "    df_wkday_merge.rename(columns={'stationid_new':prefix + 'stationid_new', 'station_x':prefix + 'station_x',\\\n",
      "                             'station_y':prefix + 'station_y', 'borough':prefix + '_boro',\\\n",
      "                             'neighborhood':prefix + 'neigh', 'neigh_id':prefix + 'neigh_id',\\\n",
      "                             'neigh_x':prefix + 'neigh_x', 'neigh_y':prefix + 'neigh_y',\\\n",
      "                             'grid_x':prefix + 'grid_x', 'grid_y':prefix + 'grid_y', 'grid_id':prefix + 'grid_id'},\\\n",
      "                          inplace=True)\n",
      "    del df_wkday_merge['station_id']\n",
      "    df_wkday = df_wkday_merge"
     ],
     "language": "python",
     "metadata": {},
     "outputs": []
    },
    {
     "cell_type": "code",
     "collapsed": false,
     "input": [
      "# Matrix for WEEKDAYS at 1 hour intervals between August-October from 7am - 11:59pm; minus round-trips\n",
      "store_1hr_allWkday_matrix = pd.HDFStore('store_1hr_allWkday_matrix.h5')\n",
      "\n",
      "# Create list of hours to loop through\n",
      "hrList = ['07', '08', '09', '10', '11', '12', '13', '14', '15', '16', '17', '18', '19', '20', '21', '22', '23']    \n",
      "\n",
      "indexList = range(0, 332)\n",
      "\n",
      "df_indexed = df_wkday.set_index('starttime')\n",
      "\n",
      "for hr in hrList:\n",
      "    subset = df_indexed.between_time(hr + ':00:00', hr + ':59:00')\n",
      "    subset_agg = subset.groupby(['startstationid_new', 'endstationid_new'], as_index=False).agg(len) \\\n",
      "    [['startstationid_new', 'endstationid_new', 'dayofweek']]\n",
      "    subset_agg.columns = ['startstationid', 'endstationid', 'count']\n",
      "    matrix = subset_agg.pivot(index = 'startstationid', columns = 'endstationid', values = 'count').fillna(0)  \n",
      "    matrix_reindex = matrix.reindex(index = indexList, columns = indexList, fill_value = 0)\n",
      "    store_1hr_allWkday_matrix['matrix_' + hr] = matrix_reindex"
     ],
     "language": "python",
     "metadata": {},
     "outputs": []
    },
    {
     "cell_type": "code",
     "collapsed": false,
     "input": [
      "# Save WEEKDAY matrices in pajek format for Infomap\n",
      "for i in store_1hr_allWkday_matrix.keys():\n",
      "    outname = 'pajek/' + i[8:] + '.pajek'\n",
      "    f = store_1hr_allWkday_matrix[i]\n",
      "    iG_dir = igraph.Graph.Weighted_Adjacency(np.matrix(f).tolist(), \"DIRECTED\", \"weight\", True)\n",
      "    iG_dir.write(outname, format='pajek')"
     ],
     "language": "python",
     "metadata": {},
     "outputs": []
    },
    {
     "cell_type": "code",
     "collapsed": false,
     "input": [
      "\"\"\"Initial test showed very little differences between the days. So this was excluded from the study\"\"\"\n",
      "# # Matrix for MONDAY-FRIDAY at 1 hour intervals between August-October from 7am - 11:59pm; sans round-trips\n",
      "\n",
      "# store_1hr_matrix = pd.HDFStore('store_1hr_matrix.h5')\n",
      "\n",
      "# # Create list of hours to loop through\n",
      "# hrList = ['07', '08', '09', '10', '11', '12', '13', '14', '15', '16', '17', '18', '19', '20', '21', '22', '23']    \n",
      "\n",
      "# indexList = range(0, 332)\n",
      "\n",
      "# for i in range(0,5):\n",
      "#     df_aug_oct = df_merge[df_merge['dayofweek'] == i] \n",
      "#     df_indexed = df_aug_oct.set_index('starttime')\n",
      "     \n",
      "#     for hr in hrList:\n",
      "#         subset = df_indexed.between_time(hr + ':00:00', hr + ':59:00')\n",
      "#         subset_agg = subset.groupby(['startstationid_new', 'endstationid_new'], as_index=False).agg(len) \\\n",
      "#         [['startstationid_new', 'endstationid_new', 'dayofweek']]\n",
      "#         subset_agg.columns = ['startstationid', 'endstationid', 'count']\n",
      "#         matrix = subset_agg.pivot(index = 'startstationid', columns = 'endstationid', values = 'count').fillna(0)  \n",
      "#         matrix_reindex = matrix.reindex(index = indexList, columns = indexList, fill_value = 0)\n",
      "#         store_1hr_matrix['matrix_' + str(i) + '_' + hr] = matrix_reindex\n",
      "\n",
      "# # Save MONDAY-FRIDAY matrices in pajek format for Infomap\n",
      "# for i in store_1hr_matrix.h5.keys():\n",
      "#     outname = 'pajek/' + i[8:] + '.pajek'\n",
      "#     f = store_1hr_allWknd_matrix[i]\n",
      "#     iG_dir = igraph.Graph.Weighted_Adjacency(np.matrix(f).tolist(), \"DIRECTED\", \"weight\", True)\n",
      "#     iG_dir.write(outname, format='pajek')"
     ],
     "language": "python",
     "metadata": {},
     "outputs": []
    },
    {
     "cell_type": "markdown",
     "metadata": {},
     "source": [
      "###Weekends"
     ]
    },
    {
     "cell_type": "code",
     "collapsed": false,
     "input": [
      "# Subset of WEEKENDS; non-round trips; all usertypes\n",
      "df_wknd = df[(df.dist != 0) & (df.weektype == 'Weekend') & \\\n",
      "               (df.starttime >= Timestamp('2013-08-01')) & (df.starttime < Timestamp('2013-11-01'))]\\\n",
      "[['starttime','stoptime','start station id','end station id', 'dayofweek', 'dayofweek_name']]\n",
      "\n",
      "wknd_aux_info = pd.read_csv('Data/station_aux_info.csv')\n",
      "for i in ['start station id', 'end station id']:\n",
      "    prefix = i.split(' ',1)[0]\n",
      "    df_wknd_merge = pd.merge(df_wknd, wknd_aux_info, left_on=i, right_on='station_id')\n",
      "    df_wknd_merge.rename(columns={'stationid_new':prefix + 'stationid_new', 'station_x':prefix + 'station_x',\\\n",
      "                             'station_y':prefix + 'station_y', 'borough':prefix + '_boro',\\\n",
      "                             'neighborhood':prefix + 'neigh', 'neigh_id':prefix + 'neigh_id',\\\n",
      "                             'neigh_x':prefix + 'neigh_x', 'neigh_y':prefix + 'neigh_y',\\\n",
      "                             'grid_x':prefix + 'grid_x', 'grid_y':prefix + 'grid_y', 'grid_id':prefix + 'grid_id'},\\\n",
      "                          inplace=True)\n",
      "    del df_wknd_merge['station_id']\n",
      "    df_wknd = df_wknd_merge"
     ],
     "language": "python",
     "metadata": {},
     "outputs": []
    },
    {
     "cell_type": "code",
     "collapsed": false,
     "input": [
      "# Matrix for the WEEKENDS at 1 hour intervals between August-October from 8am - 11:59pm; sans round-trips\n",
      "store_1hr_allWknd_matrix = pd.HDFStore('store_1hr_allWknd_matrix.h5')\n",
      "\n",
      "# Create list of hours to loop through\n",
      "hrList = ['08', '09', '10', '11', '12', '13', '14', '15', '16', '17', '18', '19', '20', '21', '22', '23']    \n",
      "\n",
      "indexList = range(0, 332)\n",
      "\n",
      "df_indexed = df_wknd.set_index('starttime')\n",
      "\n",
      "for hr in hrList:\n",
      "    subset = df_indexed.between_time(hr + ':00:00', hr + ':59:00')\n",
      "    subset_agg = subset.groupby(['startstationid_new', 'endstationid_new'], as_index=False).agg(len) \\\n",
      "    [['startstationid_new', 'endstationid_new', 'dayofweek']]\n",
      "    subset_agg.columns = ['startstationid', 'endstationid', 'count']\n",
      "    matrix = subset_agg.pivot(index = 'startstationid', columns = 'endstationid', values = 'count').fillna(0)  \n",
      "    matrix_reindex = matrix.reindex(index = indexList, columns = indexList, fill_value = 0)\n",
      "    store_1hr_allWknd_matrix['matrix_' + hr] = matrix_reindex"
     ],
     "language": "python",
     "metadata": {},
     "outputs": []
    },
    {
     "cell_type": "code",
     "collapsed": false,
     "input": [
      "# Save WEEKEND matrices in pajek format for Infomap\n",
      "for i in store_1hr_allWknd_matrix.keys():\n",
      "    outname = 'pajek/' + i[8:] + '.pajek'\n",
      "    f = store_1hr_allWknd_matrix[i]\n",
      "    iG_dir = igraph.Graph.Weighted_Adjacency(np.matrix(f).tolist(), \"DIRECTED\", \"weight\", True)\n",
      "    iG_dir.write(outname, format='pajek')"
     ],
     "language": "python",
     "metadata": {},
     "outputs": []
    },
    {
     "cell_type": "code",
     "collapsed": false,
     "input": [
      "\"\"\"Initial test showed very little differences between the days. So this was excluded from the study\"\"\"\n",
      "# # Matrix for the Saturdays and Sundays at 1 hour intervals between August-October from 8am - 11:59pm; sans round-trips\n",
      "\n",
      "# store_1hr_wknd_matrix = pd.HDFStore('store_1hr_wknd_matrix.h5')\n",
      "\n",
      "# # Create list of hours to loop through\n",
      "# hrList = ['08', '09', '10', '11', '12', '13', '14', '15', '16', '17', '18', '19', '20', '21', '22', '23']    \n",
      "\n",
      "# indexList = range(0, 332)\n",
      "\n",
      "# for i in [5,6]:\n",
      "#     df_aug_oct = df_wknd_merge[df_wknd_merge['dayofweek'] == i] \n",
      "#     df_indexed = df_aug_oct.set_index('starttime')\n",
      "     \n",
      "#     for hr in hrList:\n",
      "#         subset = df_indexed.between_time(hr + ':00:00', hr + ':59:00')\n",
      "#         subset_agg = subset.groupby(['startstationid_new', 'endstationid_new'], as_index=False).agg(len) \\\n",
      "#         [['startstationid_new', 'endstationid_new', 'dayofweek']]\n",
      "#         subset_agg.columns = ['startstationid', 'endstationid', 'count']\n",
      "#         matrix = subset_agg.pivot(index = 'startstationid', columns = 'endstationid', values = 'count').fillna(0)  \n",
      "#         matrix_reindex = matrix.reindex(index = indexList, columns = indexList, fill_value = 0)\n",
      "#         store_1hr_wknd_matrix['matrix_' + str(i) + '_' + hr] = matrix_reindex\n",
      "\n",
      "# # Save matrices in pajek format for Infomap\n",
      "# for i in store_1hr_wknd_matrix.h5.keys():\n",
      "#     outname = 'pajek/' + i[8:] + '.pajek'\n",
      "#     f = store_1hr_allWknd_matrix[i]\n",
      "#     iG_dir = igraph.Graph.Weighted_Adjacency(np.matrix(f).tolist(), \"DIRECTED\", \"weight\", True)\n",
      "#     iG_dir.write(outname, format='pajek')"
     ],
     "language": "python",
     "metadata": {},
     "outputs": []
    }
   ],
   "metadata": {}
  }
 ]
}