{
 "metadata": {
  "name": "",
  "signature": "sha256:ca436751b20c44eab91c1803fb43dd0db352b507625cf4c6d8400f23650ba124"
 },
 "nbformat": 3,
 "nbformat_minor": 0,
 "worksheets": [
  {
   "cells": [
    {
     "cell_type": "code",
     "collapsed": false,
     "input": [
      "import pandas as pd # For working with tabular data\n",
      "import numpy as np"
     ],
     "language": "python",
     "metadata": {},
     "outputs": [],
     "prompt_number": 2
    },
    {
     "cell_type": "markdown",
     "metadata": {},
     "source": [
      "#Download all the trip data from Citibike AWS server.  [Run only once].  "
     ]
    },
    {
     "cell_type": "code",
     "collapsed": false,
     "input": [
      "# %system wget https://s3.amazonaws.com/tripdata/201307-citibike-tripdata.zip\n",
      "# %system unzip 201307-citibike-tripdata.zip\n",
      "\n",
      "# %system wget https://s3.amazonaws.com/tripdata/201308-citibike-tripdata.zip\n",
      "# %system unzip 201308-citibike-tripdata.zip\n",
      "\n",
      "# %system wget https://s3.amazonaws.com/tripdata/201309-citibike-tripdata.zip\n",
      "# %system unzip 201309-citibike-tripdata.zip\n",
      "\n",
      "# %system wget https://s3.amazonaws.com/tripdata/201310-citibike-tripdata.zip\n",
      "# %system unzip 201310-citibike-tripdata.zip\n",
      "\n",
      "# %system wget https://s3.amazonaws.com/tripdata/201311-citibike-tripdata.zip\n",
      "# %system unzip 201311-citibike-tripdata.zip\n",
      "\n",
      "# %system wget https://s3.amazonaws.com/tripdata/201312-citibike-tripdata.zip\n",
      "# %system unzip 201312-citibike-tripdata.zip\n",
      "\n",
      "# %system wget https://s3.amazonaws.com/tripdata/201401-citibike-tripdata.zip\n",
      "# %system unzip 201401-citibike-tripdata.zip\n",
      "\n",
      "# %system wget https://s3.amazonaws.com/tripdata/201402-citibike-tripdata.zip\n",
      "# %system unzip 201402-citibike-tripdata.zip\n",
      "\n",
      "# %system wget https://s3.amazonaws.com/tripdata/201403-citibike-tripdata.zip\n",
      "# %system unzip 201403-citibike-tripdata.zip\n",
      "\n",
      "# %system wget https://s3.amazonaws.com/tripdata/201404-citibike-tripdata.zip\n",
      "# %system unzip 201404-citibike-tripdata.zip\n",
      "\n",
      "# %system wget https://s3.amazonaws.com/tripdata/201405-citibike-tripdata.zip\n",
      "# %system unzip 201405-citibike-tripdata.zip"
     ],
     "language": "python",
     "metadata": {},
     "outputs": [],
     "prompt_number": 52
    },
    {
     "cell_type": "markdown",
     "metadata": {},
     "source": [
      "#Compile datasets into one dataframe. [Run only once]"
     ]
    },
    {
     "cell_type": "code",
     "collapsed": false,
     "input": [
      "# Run one time\n",
      "df = pd.DataFrame()\n",
      "count = []\n",
      "monthsDict = {'2013': ['07','08', '09', '10', '11', '12'], '2014': ['01', '02', '03', '04', '05']}\n",
      "for k, v in monthsDict.iteritems():\n",
      "    for i in v:\n",
      "        v = pd.read_csv('Data/' + '%s-%s' %(k, i) + ' - Citi Bike trip data.csv', \\\n",
      "                        parse_dates=[\"starttime\", \"stoptime\"]) \n",
      "        \n",
      "        df = df.append(v)\n",
      "   \n",
      "# Save original data to csv\n",
      "df.to_csv('Data/orig_data.csv')"
     ],
     "language": "python",
     "metadata": {},
     "outputs": []
    },
    {
     "cell_type": "code",
     "collapsed": false,
     "input": [
      "# Unique Station ID and location\n",
      "df_station = df[['start station id', 'start station latitude', 'start station longitude']]\n",
      "\n",
      "df_uniqstation = df_station.drop_duplicates(cols = 'start station id')\n",
      "df_uniqstation.to_csv('Data/BikeStations.csv')"
     ],
     "language": "python",
     "metadata": {},
     "outputs": []
    }
   ],
   "metadata": {}
  }
 ]
}